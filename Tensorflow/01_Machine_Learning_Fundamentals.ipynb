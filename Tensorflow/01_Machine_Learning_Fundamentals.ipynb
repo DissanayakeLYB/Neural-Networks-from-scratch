{
 "cells": [
  {
   "cell_type": "markdown",
   "metadata": {},
   "source": [
    "# 01 - Machine Learning Fundamentals"
   ]
  },
  {
   "cell_type": "markdown",
   "metadata": {},
   "source": [
    "\n",
    "- ML (Machine Learning) is a subset of AI (Artificial Intelligence).\n",
    "- DL (Deep Learning) is subset of ML (Machine Learning).\n",
    "\n",
    "- In classical programming, inputs are the *DATA* and *RULES* and the output is *ANSWERS*.\n",
    "\n",
    "- But in ML, inputs are *DATA*, *ANSWERS* and outputs *RULES*.\n",
    "\n",
    "- In ML. rather than giving the program the rules, an algorithm finds the rules for us.\n",
    "\n",
    "- NN (Neural Networks) use multiple layers and transform data through each different layer to get an transformed output.\n",
    "\n",
    "- Data is important in training ML models.\n",
    "- Features are the inputs.\n",
    "- Label is the output (what we try to predict).\n",
    "\n",
    "- Features are fed into the ML model and it outputs a value for the Label."
   ]
  },
  {
   "cell_type": "markdown",
   "metadata": {},
   "source": []
  },
  {
   "cell_type": "markdown",
   "metadata": {},
   "source": []
  }
 ],
 "metadata": {
  "language_info": {
   "name": "python"
  }
 },
 "nbformat": 4,
 "nbformat_minor": 2
}
