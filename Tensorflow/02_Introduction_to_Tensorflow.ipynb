{
 "cells": [
  {
   "cell_type": "markdown",
   "metadata": {},
   "source": [
    "# Introduction to Tensorflow"
   ]
  },
  {
   "cell_type": "markdown",
   "metadata": {},
   "source": [
    "- A Tensor is a generalization of vectors and matrices to potentially higher dimensions. Internally, Tensorflow represents tensors as n-dimensional arrays of base datatypes.\n",
    "\n",
    "- Vector is kind of a data point.   \n",
    "    - 2d datapoint have a x coordinate and y coordinate.\n",
    "    - 3d datapoints have 3 coordinates and so on.\n",
    "    - But a vector have n-dimensions according to the datapoints' dimension.\n",
    "\n",
    "- Datatype is what type of information saved in a tensor (integer, float).\n",
    "- Scaler means just one value."
   ]
  },
  {
   "cell_type": "markdown",
   "metadata": {},
   "source": [
    "## Creating Tensors"
   ]
  },
  {
   "cell_type": "code",
   "execution_count": 3,
   "metadata": {},
   "outputs": [],
   "source": [
    "import tensorflow as tf\n",
    "\n",
    "string = tf.Variable(\"this is a string\", tf.string)\n",
    "number = tf.Variable(10, tf.int16)\n",
    "floating = tf.Variable(3.142, tf.float64)"
   ]
  },
  {
   "cell_type": "markdown",
   "metadata": {},
   "source": [
    "## Rank/ Degree of Tensors\n",
    "\n",
    "Another word for rank is degree, these terms simply mean the number of **dimensions** invloved in the tensor. What we created above is a tensor of **rank 0**, also known as a **Scaler**."
   ]
  },
  {
   "cell_type": "code",
   "execution_count": 13,
   "metadata": {},
   "outputs": [],
   "source": [
    "# ranks with highere dimensions\n",
    "\n",
    "rank1_tensor = tf.Variable([\"one\",\"two\"], tf.string)\n",
    "rank2_tensor = tf.Variable([[\"one\",\"two\",\"1\"],[\"three\",\"four\", \"2\"]], tf.string)\n",
    "rank3_tensor = tf.Variable([[[1,2,3],[4,5,6]],[[7,8,9],[10,11,12]]], tf.int16)"
   ]
  },
  {
   "cell_type": "code",
   "execution_count": 15,
   "metadata": {},
   "outputs": [
    {
     "name": "stdout",
     "output_type": "stream",
     "text": [
      "tf.Tensor(0, shape=(), dtype=int32)\n",
      "tf.Tensor(1, shape=(), dtype=int32)\n",
      "tf.Tensor(2, shape=(), dtype=int32)\n",
      "tf.Tensor(3, shape=(), dtype=int32)\n"
     ]
    }
   ],
   "source": [
    "# determine the rank of a tensor\n",
    "print(tf.rank(string))\n",
    "print(tf.rank(rank1_tensor))\n",
    "print(tf.rank(rank2_tensor))\n",
    "print(tf.rank(rank3_tensor))"
   ]
  },
  {
   "cell_type": "markdown",
   "metadata": {},
   "source": [
    "## Shape of Tensors\n"
   ]
  },
  {
   "cell_type": "markdown",
   "metadata": {},
   "source": [
    "The Shape of a tensor means the amount of elements that exist in each dimension."
   ]
  },
  {
   "cell_type": "code",
   "execution_count": 16,
   "metadata": {},
   "outputs": [
    {
     "name": "stdout",
     "output_type": "stream",
     "text": [
      "()\n",
      "(2,)\n",
      "(2, 3)\n",
      "(2, 2, 3)\n"
     ]
    }
   ],
   "source": [
    "# shape of a tensor\n",
    "\n",
    "print(string.shape)\n",
    "print(rank1_tensor.shape)\n",
    "print(rank2_tensor.shape)   \n",
    "print(rank3_tensor.shape)"
   ]
  },
  {
   "cell_type": "markdown",
   "metadata": {},
   "source": [
    "## Changing Shape"
   ]
  },
  {
   "cell_type": "markdown",
   "metadata": {},
   "source": [
    "The number of elements of a tensor is the product of the sizes of all its shapes."
   ]
  },
  {
   "cell_type": "code",
   "execution_count": 17,
   "metadata": {},
   "outputs": [],
   "source": [
    "tensor1 = tf.ones([1,2,3])  # tf.ones() creates a shape [1,2,3] tensor full of ones\n",
    "tensor2 = tf.reshape(tensor1, [2,3,1])  # reshape existing data to shape [2,3,1]\n",
    "tensor3 = tf.reshape(tensor2, [3, -1])  # -1 tells the tensor to calculate the size of the dimension in that place\n",
    "                                        # this will reshape the tensor to [3,3]"
   ]
  },
  {
   "cell_type": "code",
   "execution_count": 19,
   "metadata": {},
   "outputs": [
    {
     "name": "stdout",
     "output_type": "stream",
     "text": [
      "tf.Tensor(\n",
      "[[[1. 1. 1.]\n",
      "  [1. 1. 1.]]], shape=(1, 2, 3), dtype=float32) \n",
      "\n",
      "tf.Tensor(\n",
      "[[[1.]\n",
      "  [1.]\n",
      "  [1.]]\n",
      "\n",
      " [[1.]\n",
      "  [1.]\n",
      "  [1.]]], shape=(2, 3, 1), dtype=float32) \n",
      "\n",
      "tf.Tensor(\n",
      "[[1. 1.]\n",
      " [1. 1.]\n",
      " [1. 1.]], shape=(3, 2), dtype=float32) \n",
      "\n"
     ]
    }
   ],
   "source": [
    "print(tensor1, \"\\n\")\n",
    "print(tensor2, \"\\n\")\n",
    "print(tensor3, \"\\n\")"
   ]
  },
  {
   "cell_type": "markdown",
   "metadata": {},
   "source": [
    "# Types of Tensors"
   ]
  },
  {
   "cell_type": "markdown",
   "metadata": {},
   "source": [
    "- Constant\n",
    "- Variable\n",
    "- Placeholder\n",
    "- SparseTensor"
   ]
  },
  {
   "cell_type": "markdown",
   "metadata": {},
   "source": [
    "- Except Variable, other types are **immutable**.\n"
   ]
  },
  {
   "cell_type": "markdown",
   "metadata": {},
   "source": [
    "## Evaluating Tensors"
   ]
  },
  {
   "cell_type": "markdown",
   "metadata": {},
   "source": [
    "- By evaluating a tensor, we get a value.\n",
    "- Since tensors represent a partially complete computation we will sometimes need to run whats called a session to evaluate the tensor."
   ]
  },
  {
   "cell_type": "code",
   "execution_count": 29,
   "metadata": {},
   "outputs": [
    {
     "name": "stdout",
     "output_type": "stream",
     "text": [
      "tf.Tensor(\n",
      "[[0. 0. 0. 0. 0.]\n",
      " [0. 0. 0. 0. 0.]\n",
      " [0. 0. 0. 0. 0.]\n",
      " [0. 0. 0. 0. 0.]], shape=(4, 5), dtype=float32)\n"
     ]
    }
   ],
   "source": [
    "t = tf.zeros([2,2,5])\n",
    "\n",
    "t = tf.reshape(t, [-1, 5])\n",
    "print(t)"
   ]
  },
  {
   "cell_type": "code",
   "execution_count": null,
   "metadata": {},
   "outputs": [],
   "source": []
  }
 ],
 "metadata": {
  "kernelspec": {
   "display_name": "Python 3",
   "language": "python",
   "name": "python3"
  },
  "language_info": {
   "codemirror_mode": {
    "name": "ipython",
    "version": 3
   },
   "file_extension": ".py",
   "mimetype": "text/x-python",
   "name": "python",
   "nbconvert_exporter": "python",
   "pygments_lexer": "ipython3",
   "version": "3.10.10"
  }
 },
 "nbformat": 4,
 "nbformat_minor": 2
}
